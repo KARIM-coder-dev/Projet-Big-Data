{
 "cells": [
  {
   "cell_type": "markdown",
   "id": "e51faaf4",
   "metadata": {},
   "source": [
    "# IMPORT "
   ]
  },
  {
   "cell_type": "code",
   "execution_count": 1,
   "id": "c99b53c4",
   "metadata": {},
   "outputs": [
    {
     "name": "stderr",
     "output_type": "stream",
     "text": [
      "22/11/17 09:58:43 WARN NativeCodeLoader: Unable to load native-hadoop library for your platform... using builtin-java classes where applicable\n",
      "Using Spark's default log4j profile: org/apache/spark/log4j-defaults.properties\n",
      "Setting default log level to \"WARN\".\n",
      "To adjust logging level use sc.setLogLevel(newLevel). For SparkR, use setLogLevel(newLevel).\n"
     ]
    }
   ],
   "source": [
    "from pyspark import SparkContext, SparkConf, SQLContext\n",
    "from pyspark.sql.functions import col\n",
    "from pyspark.sql import SparkSession\n",
    "import pandas as pd\n",
    "import matplotlib.pyplot as plt\n",
    "import seaborn as sns\n",
    "import pymongo\n",
    "from pymongo import  MongoClient\n",
    "\n",
    "spark = SparkSession.\\\n",
    "        builder.\\\n",
    "        appName(\"Test_Projet\").\\\n",
    "        master(\"spark://spark-master:7077\").\\\n",
    "        config(\"spark.executor.memory\", \"3g\").\\\n",
    "        getOrCreate()"
   ]
  },
  {
   "cell_type": "markdown",
   "id": "e9242579",
   "metadata": {},
   "source": [
    "# DATAFRAME 1"
   ]
  },
  {
   "cell_type": "code",
   "execution_count": 2,
   "id": "305e22e1",
   "metadata": {},
   "outputs": [
    {
     "name": "stderr",
     "output_type": "stream",
     "text": [
      "                                                                                \r"
     ]
    }
   ],
   "source": [
    "path = \"./Data/quartier_paris.csv\"\n",
    "\n",
    "dataframe_1 = spark.read.option(\"delimiter\", \";\").option(\"header\",True).csv(path)"
   ]
  },
  {
   "cell_type": "code",
   "execution_count": 3,
   "id": "50257ff7",
   "metadata": {},
   "outputs": [
    {
     "name": "stdout",
     "output_type": "stream",
     "text": [
      "root\n",
      " |-- N_SQ_QU: string (nullable = true)\n",
      " |-- C_QU: string (nullable = true)\n",
      " |-- C_QUINSEE: string (nullable = true)\n",
      " |-- L_QU: string (nullable = true)\n",
      " |-- C_AR: string (nullable = true)\n",
      " |-- N_SQ_AR: string (nullable = true)\n",
      " |-- PERIMETRE: string (nullable = true)\n",
      " |-- SURFACE: string (nullable = true)\n",
      " |-- Geometry X Y: string (nullable = true)\n",
      " |-- Geometry: string (nullable = true)\n",
      "\n"
     ]
    }
   ],
   "source": [
    "dataframe_1.printSchema()"
   ]
  },
  {
   "cell_type": "code",
   "execution_count": 4,
   "id": "ef8a5993",
   "metadata": {},
   "outputs": [],
   "source": [
    "data_1 = dataframe_1.drop('N_SQ_AR', 'Geometry', 'Geometry X Y')"
   ]
  },
  {
   "cell_type": "code",
   "execution_count": 5,
   "id": "d7da6e6f",
   "metadata": {},
   "outputs": [
    {
     "name": "stdout",
     "output_type": "stream",
     "text": [
      "root\n",
      " |-- id_Quartier: string (nullable = true)\n",
      " |-- Num_Quartier: string (nullable = true)\n",
      " |-- Num_INSEE: string (nullable = true)\n",
      " |-- Nom_Quartier: string (nullable = true)\n",
      " |-- Num_Arrond: string (nullable = true)\n",
      " |-- PERIMETRE: string (nullable = true)\n",
      " |-- SURFACE: string (nullable = true)\n",
      "\n"
     ]
    }
   ],
   "source": [
    "data_1 = data_1.withColumnRenamed('N_SQ_QU','id_Quartier')\\\n",
    "        .withColumnRenamed('C_QU','Num_Quartier')\\\n",
    "        .withColumnRenamed('C_QUINSEE', 'Num_INSEE')\\\n",
    "        .withColumnRenamed('L_QU', 'Nom_Quartier')\\\n",
    "        .withColumnRenamed('C_AR', 'Num_Arrond')\n",
    "\n",
    "data_1.printSchema()"
   ]
  },
  {
   "cell_type": "code",
   "execution_count": 6,
   "id": "88031ead",
   "metadata": {},
   "outputs": [],
   "source": [
    "data_1 = data_1.withColumn('id_Quartier',col('id_Quartier').cast(\"integer\")) \\\n",
    "                .withColumn('Num_Quartier',col('Num_Quartier').cast(\"integer\"))\\\n",
    "                .withColumn('Num_INSEE',col('Num_INSEE').cast(\"integer\")) \\\n",
    "                .withColumn('Num_Arrond',col('Num_Arrond').cast(\"integer\")) "
   ]
  },
  {
   "cell_type": "code",
   "execution_count": 7,
   "id": "6773c82f",
   "metadata": {},
   "outputs": [
    {
     "name": "stdout",
     "output_type": "stream",
     "text": [
      "+-----------+------------+---------+--------------------+----------+-------------+----------------+\n",
      "|id_Quartier|Num_Quartier|Num_INSEE|        Nom_Quartier|Num_Arrond|    PERIMETRE|         SURFACE|\n",
      "+-----------+------------+---------+--------------------+----------+-------------+----------------+\n",
      "|  750000008|           8|  7510204|      Bonne-Nouvelle|         2|2233.97603015| 281448.20657677|\n",
      "|  750000015|          15|  7510403|             Arsenal|         4|2878.55965556| 487264.93707154|\n",
      "|  750000016|          16|  7510404|          Notre-Dame|         4|3283.16337082| 378252.15367404|\n",
      "|  750000020|          20|  7510504|            Sorbonne|         5|2892.94406823| 433197.79244055|\n",
      "|  750000025|          25|  7510701|Saint-Thomas-d'Aquin|         7|3827.25335281| 826559.43678046|\n",
      "|  750000050|          50|  7511302|                Gare|        13|7070.35056681|3044177.51486294|\n",
      "|  750000042|          42|  7511102|      Saint-Ambroise|        11| 4052.5677372|  837992.9215673|\n",
      "|  750000003|           3|  7510103|        Palais-Royal|         1|2166.83923918| 273696.79330056|\n",
      "|  750000062|          62|  7511602|              Muette|        16| 11962.438594|5477898.30048563|\n",
      "|  750000013|          13|  7510401|         Saint-Merri|         4|2346.00468675| 313040.39654987|\n",
      "|  750000022|          22|  7510602|               Odéon|         6|3516.31446441| 716148.35103094|\n",
      "|  750000064|          64|  7511604|            Chaillot|        16| 5207.0464458|1424035.23620053|\n",
      "|  750000067|          67|  7511703|         Batignolles|        17|5832.69002632|1441710.87038814|\n",
      "|  750000037|          37|  7511001|Saint-Vincent-de-...|        10|4072.78963288| 926865.22977637|\n",
      "|  750000057|          57|  7511501|       Saint-Lambert|        15|6928.79207234|2829201.55405581|\n",
      "|  750000078|          78|  7512002|       Saint-Fargeau|        20|5405.03643277|1486971.46267173|\n",
      "|  750000065|          65|  7511701|              Ternes|        17|5264.59708157|1465070.90670735|\n",
      "|  750000070|          70|  7511802|        Clignancourt|        18|6005.52038878|1653715.16259272|\n",
      "|  750000011|          11|  7510303|            Archives|         3|2534.10004151| 367728.38686733|\n",
      "|  750000018|          18|  7510502|  Jardin-des-Plantes|         5|4052.72952079| 798389.39846272|\n",
      "+-----------+------------+---------+--------------------+----------+-------------+----------------+\n",
      "only showing top 20 rows\n",
      "\n"
     ]
    }
   ],
   "source": [
    "data_1.show()"
   ]
  },
  {
   "cell_type": "code",
   "execution_count": 8,
   "id": "29e0ae76",
   "metadata": {},
   "outputs": [
    {
     "data": {
      "text/plain": [
       "[('id_Quartier', 'int'),\n",
       " ('Num_Quartier', 'int'),\n",
       " ('Num_INSEE', 'int'),\n",
       " ('Nom_Quartier', 'string'),\n",
       " ('Num_Arrond', 'int'),\n",
       " ('PERIMETRE', 'string'),\n",
       " ('SURFACE', 'string')]"
      ]
     },
     "execution_count": 8,
     "metadata": {},
     "output_type": "execute_result"
    }
   ],
   "source": [
    "data_1.dtypes"
   ]
  },
  {
   "cell_type": "markdown",
   "id": "cb4028a0",
   "metadata": {},
   "source": [
    "# DATAFRAME 2"
   ]
  },
  {
   "cell_type": "code",
   "execution_count": 9,
   "id": "24995efa",
   "metadata": {},
   "outputs": [
    {
     "name": "stderr",
     "output_type": "stream",
     "text": [
      "                                                                                \r"
     ]
    }
   ],
   "source": [
    "path = \"./Data/logement-encadrement-des-loyers.csv\"\n",
    "\n",
    "dataframe_2 = spark.read.option(\"delimiter\", \";\").option(\"header\",True).csv(path)"
   ]
  },
  {
   "cell_type": "code",
   "execution_count": 10,
   "id": "56927a2e",
   "metadata": {},
   "outputs": [
    {
     "name": "stdout",
     "output_type": "stream",
     "text": [
      "root\n",
      " |-- Année: string (nullable = true)\n",
      " |-- Secteurs géographiques: string (nullable = true)\n",
      " |-- Numéro du quartier: string (nullable = true)\n",
      " |-- Nom du quartier: string (nullable = true)\n",
      " |-- Nombre de pièces principales: string (nullable = true)\n",
      " |-- Epoque de construction: string (nullable = true)\n",
      " |-- Type de location: string (nullable = true)\n",
      " |-- Loyers de référence: string (nullable = true)\n",
      " |-- Loyers de référence majorés: string (nullable = true)\n",
      " |-- Loyers de référence minorés: string (nullable = true)\n",
      " |-- Ville: string (nullable = true)\n",
      " |-- Numéro INSEE du quartier: string (nullable = true)\n",
      " |-- geo_shape: string (nullable = true)\n",
      " |-- geo_point_2d: string (nullable = true)\n",
      "\n"
     ]
    }
   ],
   "source": [
    "dataframe_2.printSchema()"
   ]
  },
  {
   "cell_type": "code",
   "execution_count": 11,
   "id": "d9d346ef",
   "metadata": {},
   "outputs": [],
   "source": [
    "data_2 = dataframe_2.drop('Secteurs géographiques', 'geo_shape', 'geo_point_2d')"
   ]
  },
  {
   "cell_type": "code",
   "execution_count": 12,
   "id": "6fde28da",
   "metadata": {},
   "outputs": [],
   "source": [
    "data_2 = data_2.withColumnRenamed('Numéro du quartier','Num_quart')\\\n",
    "                 .withColumnRenamed('Nom du quartier', 'Nom_quart')\\\n",
    "                 .withColumnRenamed('Nombre de pièces principales', 'Nb_pièces')\\\n",
    "                 .withColumnRenamed('Epoque de construction', 'Epoque')\\\n",
    "                 .withColumnRenamed('Type de location', 'Type')\\\n",
    "                 .withColumnRenamed('Loyers de référence', 'Loy_Ref')\\\n",
    "                 .withColumnRenamed('Loyers de référence majorés' , 'Loy_Max')\\\n",
    "                 .withColumnRenamed('Loyers de référence minorés', 'Loy_Min')\\\n",
    "                 .withColumnRenamed('Numéro INSEE du quartier','Num_INSEE')"
   ]
  },
  {
   "cell_type": "code",
   "execution_count": 13,
   "id": "af3b9022",
   "metadata": {},
   "outputs": [],
   "source": [
    "data_2 = data_2.withColumn('Num_quart',col('Num_quart').cast(\"integer\")) \\\n",
    "                .withColumn('Num_INSEE',col('Num_INSEE').cast(\"integer\")) \\\n",
    "                .withColumn('Loy_Ref',col('Loy_Ref').cast(\"integer\")) \\\n",
    "                .withColumn('Loy_Min',col('Loy_Min').cast(\"integer\"))\\\n",
    "                .withColumn('Loy_Max',col('Loy_Max').cast(\"integer\")) \\\n",
    "                .withColumn('Nb_pièces',col('Nb_pièces').cast(\"integer\"))"
   ]
  },
  {
   "cell_type": "code",
   "execution_count": 14,
   "id": "4e7a0d10",
   "metadata": {},
   "outputs": [
    {
     "name": "stdout",
     "output_type": "stream",
     "text": [
      "+-----+---------+-------------------+---------+----------+----------+-------+-------+-------+-----+---------+\n",
      "|Année|Num_quart|          Nom_quart|Nb_pièces|    Epoque|      Type|Loy_Ref|Loy_Max|Loy_Min|Ville|Num_INSEE|\n",
      "+-----+---------+-------------------+---------+----------+----------+-------+-------+-------+-----+---------+\n",
      "| 2020|       33|      Saint-Georges|        2| 1946-1970|non meublé|     23|     28|     16|PARIS|  7510933|\n",
      "| 2020|       28|       Gros-Caillou|        2| 1971-1990|    meublé|     30|     36|     21|PARIS|  7510728|\n",
      "| 2020|       29|     Champs-Elysées|        1|Avant 1946|non meublé|     32|     39|     22|PARIS|  7510829|\n",
      "| 2020|       34|   Chaussée-d'Antin|        3| 1946-1970|    meublé|     24|     29|     17|PARIS|  7510934|\n",
      "| 2020|       35|Faubourg-Montmartre|        4| 1971-1990|non meublé|     21|     26|     15|PARIS|  7510935|\n",
      "| 2020|       47|              Bercy|        3|Avant 1946|    meublé|     23|     27|     16|PARIS|  7511247|\n",
      "| 2020|       43|           Roquette|        4|Apres 1990|    meublé|     21|     26|     15|PARIS|  7511143|\n",
      "| 2020|       35|Faubourg-Montmartre|        2| 1946-1970|non meublé|     23|     28|     16|PARIS|  7510935|\n",
      "| 2020|       35|Faubourg-Montmartre|        4|Apres 1990|non meublé|     20|     24|     14|PARIS|  7510935|\n",
      "| 2020|       39| Porte-Saint-Martin|        2| 1971-1990|    meublé|     25|     31|     18|PARIS|  7511039|\n",
      "| 2020|       35|Faubourg-Montmartre|        1| 1971-1990|    meublé|     30|     36|     21|PARIS|  7510935|\n",
      "| 2020|       44|  Sainte-Marguerite|        1|Avant 1946|    meublé|     32|     39|     22|PARIS|  7511144|\n",
      "| 2020|       44|  Sainte-Marguerite|        4|Avant 1946|    meublé|     23|     27|     16|PARIS|  7511144|\n",
      "| 2020|       50|               Gare|        2| 1946-1970|    meublé|     21|     25|     15|PARIS|  7511350|\n",
      "| 2020|       49|        Salpêtrière|        2| 1946-1970|    meublé|     24|     29|     16|PARIS|  7511349|\n",
      "| 2020|       34|   Chaussée-d'Antin|        4|Avant 1946|    meublé|     28|     34|     20|PARIS|  7510934|\n",
      "| 2020|       49|        Salpêtrière|        3|Apres 1990|non meublé|     23|     28|     16|PARIS|  7511349|\n",
      "| 2020|       47|              Bercy|        4| 1971-1990|non meublé|     17|     21|     12|PARIS|  7511247|\n",
      "| 2020|       43|           Roquette|        4| 1946-1970|    meublé|     24|     29|     17|PARIS|  7511143|\n",
      "| 2020|       32|             Europe|        2|Apres 1990|    meublé|     30|     36|     21|PARIS|  7510832|\n",
      "+-----+---------+-------------------+---------+----------+----------+-------+-------+-------+-----+---------+\n",
      "only showing top 20 rows\n",
      "\n"
     ]
    }
   ],
   "source": [
    "data_2.show()"
   ]
  },
  {
   "cell_type": "code",
   "execution_count": 15,
   "id": "750aa60b",
   "metadata": {},
   "outputs": [
    {
     "data": {
      "text/plain": [
       "[('Année', 'string'),\n",
       " ('Num_quart', 'int'),\n",
       " ('Nom_quart', 'string'),\n",
       " ('Nb_pièces', 'int'),\n",
       " ('Epoque', 'string'),\n",
       " ('Type', 'string'),\n",
       " ('Loy_Ref', 'int'),\n",
       " ('Loy_Max', 'int'),\n",
       " ('Loy_Min', 'int'),\n",
       " ('Ville', 'string'),\n",
       " ('Num_INSEE', 'int')]"
      ]
     },
     "execution_count": 15,
     "metadata": {},
     "output_type": "execute_result"
    }
   ],
   "source": [
    "data_2.dtypes"
   ]
  },
  {
   "cell_type": "markdown",
   "id": "1fceeecc",
   "metadata": {},
   "source": [
    "### Calcul des moyennes"
   ]
  },
  {
   "cell_type": "code",
   "execution_count": 16,
   "id": "6f5b5765",
   "metadata": {},
   "outputs": [
    {
     "name": "stderr",
     "output_type": "stream",
     "text": [
      "[Stage 4:==============>                                            (1 + 3) / 4]\r"
     ]
    },
    {
     "name": "stdout",
     "output_type": "stream",
     "text": [
      "+--------------+\n",
      "|avg(Loy_Ref)  |\n",
      "+--------------+\n",
      "|25.38681640625|\n",
      "+--------------+\n",
      "\n"
     ]
    },
    {
     "name": "stderr",
     "output_type": "stream",
     "text": [
      "                                                                                \r"
     ]
    }
   ],
   "source": [
    "data_2.agg({\"Loy_Ref\": \"mean\"}).show(truncate=False)"
   ]
  },
  {
   "cell_type": "code",
   "execution_count": 17,
   "id": "072f1c35",
   "metadata": {},
   "outputs": [
    {
     "name": "stdout",
     "output_type": "stream",
     "text": [
      "+--------------+\n",
      "|avg(Loy_Max)  |\n",
      "+--------------+\n",
      "|30.53427734375|\n",
      "+--------------+\n",
      "\n"
     ]
    },
    {
     "name": "stderr",
     "output_type": "stream",
     "text": [
      "                                                                                \r"
     ]
    }
   ],
   "source": [
    "data_2.agg({\"Loy_Max\": \"mean\"}).show(truncate=False)"
   ]
  },
  {
   "cell_type": "code",
   "execution_count": 18,
   "id": "1628faf9",
   "metadata": {},
   "outputs": [
    {
     "name": "stdout",
     "output_type": "stream",
     "text": [
      "+--------------+\n",
      "|avg(Loy_Min)  |\n",
      "+--------------+\n",
      "|17.62333984375|\n",
      "+--------------+\n",
      "\n"
     ]
    }
   ],
   "source": [
    "data_2.agg({\"Loy_Min\": \"mean\"}).show(truncate=False)"
   ]
  },
  {
   "cell_type": "code",
   "execution_count": 19,
   "id": "bd44a4e8",
   "metadata": {},
   "outputs": [
    {
     "name": "stdout",
     "output_type": "stream",
     "text": [
      "+--------------+\n",
      "|avg(Nb_pièces)|\n",
      "+--------------+\n",
      "|2.5           |\n",
      "+--------------+\n",
      "\n"
     ]
    }
   ],
   "source": [
    "data_2.agg({\"Nb_pièces\": \"mean\"}).show(truncate=False)"
   ]
  },
  {
   "cell_type": "markdown",
   "id": "49aaa730",
   "metadata": {},
   "source": [
    "### Corrélations"
   ]
  },
  {
   "cell_type": "code",
   "execution_count": 20,
   "id": "0375faea",
   "metadata": {},
   "outputs": [
    {
     "name": "stderr",
     "output_type": "stream",
     "text": [
      "[Stage 12:===========================================>              (3 + 1) / 4]\r"
     ]
    },
    {
     "name": "stdout",
     "output_type": "stream",
     "text": [
      "-0.5520241524421726\n"
     ]
    },
    {
     "name": "stderr",
     "output_type": "stream",
     "text": [
      "                                                                                \r"
     ]
    }
   ],
   "source": [
    "print(data_2.stat.corr('Nb_pièces', 'Loy_Ref'))"
   ]
  },
  {
   "cell_type": "code",
   "execution_count": 21,
   "id": "9352e54d",
   "metadata": {},
   "outputs": [
    {
     "name": "stdout",
     "output_type": "stream",
     "text": [
      "-0.544205635916949\n"
     ]
    }
   ],
   "source": [
    "print(data_2.stat.corr('Nb_pièces', 'Loy_Min'))"
   ]
  },
  {
   "cell_type": "code",
   "execution_count": 22,
   "id": "9407c4b9",
   "metadata": {},
   "outputs": [
    {
     "name": "stdout",
     "output_type": "stream",
     "text": [
      "-0.5522932951479006\n"
     ]
    }
   ],
   "source": [
    "print(data_2.stat.corr('Nb_pièces', 'Loy_Max'))"
   ]
  },
  {
   "cell_type": "code",
   "execution_count": 23,
   "id": "1a9bca4e",
   "metadata": {},
   "outputs": [
    {
     "name": "stderr",
     "output_type": "stream",
     "text": [
      "[Stage 15:==============>                                           (1 + 3) / 4]\r"
     ]
    },
    {
     "name": "stdout",
     "output_type": "stream",
     "text": [
      "-0.4090005833787298\n"
     ]
    },
    {
     "name": "stderr",
     "output_type": "stream",
     "text": [
      "                                                                                \r"
     ]
    }
   ],
   "source": [
    "print(data_2.stat.corr('Loy_Ref', 'Num_quart'))"
   ]
  },
  {
   "cell_type": "code",
   "execution_count": 24,
   "id": "5e02fc50",
   "metadata": {},
   "outputs": [
    {
     "name": "stdout",
     "output_type": "stream",
     "text": [
      "-0.4090923891484998\n"
     ]
    }
   ],
   "source": [
    "print(data_2.stat.corr('Loy_Ref', 'Num_INSEE'))"
   ]
  },
  {
   "cell_type": "markdown",
   "id": "f87d5441",
   "metadata": {},
   "source": [
    "### Filtres"
   ]
  },
  {
   "cell_type": "code",
   "execution_count": 25,
   "id": "67fc5080",
   "metadata": {},
   "outputs": [
    {
     "data": {
      "text/plain": [
       "4707"
      ]
     },
     "execution_count": 25,
     "metadata": {},
     "output_type": "execute_result"
    }
   ],
   "source": [
    "data_2.filter(data_2.Loy_Ref > 25.38681640625).count()"
   ]
  },
  {
   "cell_type": "code",
   "execution_count": 26,
   "id": "101e5d5b",
   "metadata": {},
   "outputs": [
    {
     "data": {
      "text/plain": [
       "5533"
      ]
     },
     "execution_count": 26,
     "metadata": {},
     "output_type": "execute_result"
    }
   ],
   "source": [
    "data_2.filter(data_2.Loy_Ref < 25.38681640625).count()"
   ]
  },
  {
   "cell_type": "code",
   "execution_count": 27,
   "id": "c75ae9d7",
   "metadata": {},
   "outputs": [
    {
     "data": {
      "text/plain": [
       "128"
      ]
     },
     "execution_count": 27,
     "metadata": {},
     "output_type": "execute_result"
    }
   ],
   "source": [
    "data_2.filter(data_2.Nom_quart == 'Champs-Elysées').count()"
   ]
  },
  {
   "cell_type": "markdown",
   "id": "97e2520d",
   "metadata": {},
   "source": [
    "### GroupBy"
   ]
  },
  {
   "cell_type": "code",
   "execution_count": 28,
   "id": "523254b3",
   "metadata": {},
   "outputs": [
    {
     "name": "stderr",
     "output_type": "stream",
     "text": [
      "                                                                                \r"
     ]
    },
    {
     "data": {
      "text/plain": [
       "[Row(Type='meublé', avg(Loy_Min)=18.7158203125, avg(Loy_Ref)=26.935546875, avg(Loy_Max)=32.409375),\n",
       " Row(Type='non meublé', avg(Loy_Min)=16.530859375, avg(Loy_Ref)=23.8380859375, avg(Loy_Max)=28.6591796875)]"
      ]
     },
     "execution_count": 28,
     "metadata": {},
     "output_type": "execute_result"
    }
   ],
   "source": [
    "data_2.groupby('Type').agg({\n",
    "    'Loy_Ref': 'mean',\n",
    "    'Loy_Min': 'mean',\n",
    "    'Loy_Max': 'mean'\n",
    "}).collect()"
   ]
  },
  {
   "cell_type": "code",
   "execution_count": 29,
   "id": "46213fc9",
   "metadata": {},
   "outputs": [
    {
     "name": "stderr",
     "output_type": "stream",
     "text": [
      "                                                                                \r"
     ]
    },
    {
     "data": {
      "text/plain": [
       "[Row(Nom_quart='Gaillon', avg(Loy_Ref)=27.9296875),\n",
       " Row(Nom_quart='Enfants-Rouges', avg(Loy_Ref)=26.6875),\n",
       " Row(Nom_quart='Notre-Dame-des-Champs', avg(Loy_Ref)=29.9609375),\n",
       " Row(Nom_quart='Hôpital-Saint-Louis', avg(Loy_Ref)=23.6171875),\n",
       " Row(Nom_quart='Saint-Fargeau', avg(Loy_Ref)=20.4296875),\n",
       " Row(Nom_quart='Père-Lachaise', avg(Loy_Ref)=22.2421875),\n",
       " Row(Nom_quart='Batignolles', avg(Loy_Ref)=24.78125),\n",
       " Row(Nom_quart=\"Chaussée-d'Antin\", avg(Loy_Ref)=27.9296875),\n",
       " Row(Nom_quart='Rochechouart', avg(Loy_Ref)=24.9140625),\n",
       " Row(Nom_quart='Europe', avg(Loy_Ref)=27.3515625),\n",
       " Row(Nom_quart='Roquette', avg(Loy_Ref)=23.6171875),\n",
       " Row(Nom_quart='Saint-Merri', avg(Loy_Ref)=27.9296875),\n",
       " Row(Nom_quart='Pont-de-Flandre', avg(Loy_Ref)=20.4296875),\n",
       " Row(Nom_quart='Arsenal', avg(Loy_Ref)=27.9296875),\n",
       " Row(Nom_quart='Maison-Blanche', avg(Loy_Ref)=24.1171875),\n",
       " Row(Nom_quart='Odeon', avg(Loy_Ref)=27.9296875),\n",
       " Row(Nom_quart='Bercy', avg(Loy_Ref)=22.2421875),\n",
       " Row(Nom_quart='Grenelle', avg(Loy_Ref)=25.0703125),\n",
       " Row(Nom_quart='Gare', avg(Loy_Ref)=20.4296875),\n",
       " Row(Nom_quart='Saint-Vincent-de-Paul', avg(Loy_Ref)=24.9140625),\n",
       " Row(Nom_quart='Auteuil', avg(Loy_Ref)=25.0703125),\n",
       " Row(Nom_quart='Archives', avg(Loy_Ref)=26.6875),\n",
       " Row(Nom_quart='Saint-Georges', avg(Loy_Ref)=24.9140625),\n",
       " Row(Nom_quart='La Chapelle', avg(Loy_Ref)=20.4296875),\n",
       " Row(Nom_quart='Sainte-Avoie', avg(Loy_Ref)=26.6875),\n",
       " Row(Nom_quart='Madeleine', avg(Loy_Ref)=27.9296875),\n",
       " Row(Nom_quart='Place-Vendôme', avg(Loy_Ref)=27.9296875),\n",
       " Row(Nom_quart='Arts-et-Metiers', avg(Loy_Ref)=26.6875),\n",
       " Row(Nom_quart='Notre-Dame', avg(Loy_Ref)=27.9296875),\n",
       " Row(Nom_quart='Amérique', avg(Loy_Ref)=20.4296875),\n",
       " Row(Nom_quart='Sorbonne', avg(Loy_Ref)=26.6875),\n",
       " Row(Nom_quart='Val-de-Grace', avg(Loy_Ref)=26.6875),\n",
       " Row(Nom_quart='Saint-Victor', avg(Loy_Ref)=26.6875),\n",
       " Row(Nom_quart='Belleville', avg(Loy_Ref)=23.6171875),\n",
       " Row(Nom_quart='Saint-Ambroise', avg(Loy_Ref)=24.78125),\n",
       " Row(Nom_quart='Folie-Méricourt', avg(Loy_Ref)=23.6171875),\n",
       " Row(Nom_quart='Plaisance', avg(Loy_Ref)=24.1171875),\n",
       " Row(Nom_quart='Bel-Air', avg(Loy_Ref)=22.2421875),\n",
       " Row(Nom_quart='Picpus', avg(Loy_Ref)=22.8359375),\n",
       " Row(Nom_quart='Villette', avg(Loy_Ref)=20.4296875),\n",
       " Row(Nom_quart='Quinze-Vingts', avg(Loy_Ref)=23.6171875),\n",
       " Row(Nom_quart='Saint-Germain-des-Prés', avg(Loy_Ref)=27.9296875),\n",
       " Row(Nom_quart='Porte-Saint-Denis', avg(Loy_Ref)=24.9140625),\n",
       " Row(Nom_quart='Palais-Royal', avg(Loy_Ref)=27.9296875),\n",
       " Row(Nom_quart='Mail', avg(Loy_Ref)=26.6875),\n",
       " Row(Nom_quart='Faubourg-Montmartre', avg(Loy_Ref)=24.9140625),\n",
       " Row(Nom_quart='Invalides', avg(Loy_Ref)=29.9609375),\n",
       " Row(Nom_quart='Jardin-des-Plantes', avg(Loy_Ref)=24.78125),\n",
       " Row(Nom_quart='Vivienne', avg(Loy_Ref)=26.6875),\n",
       " Row(Nom_quart='Gros-Caillou', avg(Loy_Ref)=29.9609375),\n",
       " Row(Nom_quart='Salpêtrière', avg(Loy_Ref)=24.78125),\n",
       " Row(Nom_quart='Clignancourt', avg(Loy_Ref)=22.8359375),\n",
       " Row(Nom_quart='Chaillot', avg(Loy_Ref)=27.3515625),\n",
       " Row(Nom_quart=\"St-Germain-l'Auxerrois\", avg(Loy_Ref)=27.9296875),\n",
       " Row(Nom_quart='Porte-Saint-Martin', avg(Loy_Ref)=23.6171875),\n",
       " Row(Nom_quart='Grandes-Carrières', avg(Loy_Ref)=22.8359375),\n",
       " Row(Nom_quart='Necker', avg(Loy_Ref)=26.125),\n",
       " Row(Nom_quart='Epinettes', avg(Loy_Ref)=23.6171875),\n",
       " Row(Nom_quart='Sainte-Marguerite', avg(Loy_Ref)=24.78125),\n",
       " Row(Nom_quart='Montparnasse', avg(Loy_Ref)=24.9140625),\n",
       " Row(Nom_quart='Parc-de-Montsouris', avg(Loy_Ref)=23.6171875),\n",
       " Row(Nom_quart='Halles', avg(Loy_Ref)=24.9140625),\n",
       " Row(Nom_quart='Saint-Lambert', avg(Loy_Ref)=24.296875),\n",
       " Row(Nom_quart='Champs-Elysées', avg(Loy_Ref)=27.9296875),\n",
       " Row(Nom_quart='Ecole-Militaire', avg(Loy_Ref)=29.9609375),\n",
       " Row(Nom_quart='Petit-Montrouge', avg(Loy_Ref)=24.78125),\n",
       " Row(Nom_quart='Javel 15Art', avg(Loy_Ref)=25.0703125),\n",
       " Row(Nom_quart='Charonne', avg(Loy_Ref)=20.4296875),\n",
       " Row(Nom_quart='Muette', avg(Loy_Ref)=27.3515625),\n",
       " Row(Nom_quart='Monnaie', avg(Loy_Ref)=27.9296875),\n",
       " Row(Nom_quart='Bonne-Nouvelle', avg(Loy_Ref)=26.6875),\n",
       " Row(Nom_quart=\"Saint-Thomas-d'Aquin\", avg(Loy_Ref)=29.9609375),\n",
       " Row(Nom_quart='Plaine de Monceaux', avg(Loy_Ref)=26.125),\n",
       " Row(Nom_quart='Ternes', avg(Loy_Ref)=26.125),\n",
       " Row(Nom_quart='Faubourg-du-Roule', avg(Loy_Ref)=27.9296875),\n",
       " Row(Nom_quart='Porte-Dauphine', avg(Loy_Ref)=27.3515625),\n",
       " Row(Nom_quart='Croulebarbe', avg(Loy_Ref)=24.9140625),\n",
       " Row(Nom_quart='Combat', avg(Loy_Ref)=22.2421875),\n",
       " Row(Nom_quart='Saint-Gervais', avg(Loy_Ref)=26.6875),\n",
       " Row(Nom_quart=\"Goutte-d'Or\", avg(Loy_Ref)=23.6171875)]"
      ]
     },
     "execution_count": 29,
     "metadata": {},
     "output_type": "execute_result"
    }
   ],
   "source": [
    "data_2.groupby('Nom_quart').agg({\n",
    "    'Loy_Ref': 'mean',\n",
    "}).collect()"
   ]
  },
  {
   "cell_type": "markdown",
   "id": "f7bae025",
   "metadata": {},
   "source": [
    "path = \"./Data/logement-encadrement-des-loyers.csv\"\n",
    "\n",
    "dataframe_2 = spark.read.option(\"delimiter\", \";\").option(\"header\",True).csv(path)# DATAFRAME 3"
   ]
  },
  {
   "cell_type": "markdown",
   "id": "eb2a1f41",
   "metadata": {},
   "source": [
    "# DATAFRAME 3"
   ]
  },
  {
   "cell_type": "code",
   "execution_count": 30,
   "id": "62193c2b",
   "metadata": {},
   "outputs": [],
   "source": [
    "path = \"./Data/espaces_verts.csv\"\n",
    "\n",
    "dataframe_2 = spark.read.option(\"delimiter\", \";\").option(\"header\",True).csv(path)"
   ]
  },
  {
   "cell_type": "markdown",
   "id": "5a45ffe5",
   "metadata": {},
   "source": [
    "# UNION DES DATAFRAMES"
   ]
  },
  {
   "cell_type": "code",
   "execution_count": 31,
   "id": "094dc28a",
   "metadata": {},
   "outputs": [],
   "source": [
    "data_union = data_1.join(data_2, data_1.Num_Quartier ==  data_2.Num_quart,\"inner\")"
   ]
  },
  {
   "cell_type": "code",
   "execution_count": 32,
   "id": "ad8acdd8",
   "metadata": {},
   "outputs": [
    {
     "data": {
      "text/plain": [
       "[('id_Quartier', 'int'),\n",
       " ('Num_Quartier', 'int'),\n",
       " ('Num_INSEE', 'int'),\n",
       " ('Nom_Quartier', 'string'),\n",
       " ('Num_Arrond', 'int'),\n",
       " ('PERIMETRE', 'string'),\n",
       " ('SURFACE', 'string'),\n",
       " ('Année', 'string'),\n",
       " ('Num_quart', 'int'),\n",
       " ('Nom_quart', 'string'),\n",
       " ('Nb_pièces', 'int'),\n",
       " ('Epoque', 'string'),\n",
       " ('Type', 'string'),\n",
       " ('Loy_Ref', 'int'),\n",
       " ('Loy_Max', 'int'),\n",
       " ('Loy_Min', 'int'),\n",
       " ('Ville', 'string'),\n",
       " ('Num_INSEE', 'int')]"
      ]
     },
     "execution_count": 32,
     "metadata": {},
     "output_type": "execute_result"
    }
   ],
   "source": [
    "data_union.dtypes"
   ]
  },
  {
   "cell_type": "code",
   "execution_count": 33,
   "id": "b8b7f4c7",
   "metadata": {},
   "outputs": [],
   "source": [
    "data_union = data_union.drop('id_Quartier', 'PERIMETRE', 'SURFACE', 'Année', 'Num_quart', 'Nom_quart', 'Num_insee')"
   ]
  },
  {
   "cell_type": "code",
   "execution_count": 34,
   "id": "ffae3de6",
   "metadata": {},
   "outputs": [
    {
     "name": "stdout",
     "output_type": "stream",
     "text": [
      "+------------+-------------------+----------+---------+----------+----------+-------+-------+-------+-----+\n",
      "|Num_Quartier|Nom_Quartier       |Num_Arrond|Nb_pièces|Epoque    |Type      |Loy_Ref|Loy_Max|Loy_Min|Ville|\n",
      "+------------+-------------------+----------+---------+----------+----------+-------+-------+-------+-----+\n",
      "|33          |Saint-Georges      |9         |2        |1946-1970 |non meublé|23     |28     |16     |PARIS|\n",
      "|28          |Gros-Caillou       |7         |2        |1971-1990 |meublé    |30     |36     |21     |PARIS|\n",
      "|29          |Champs-Elysées     |8         |1        |Avant 1946|non meublé|32     |39     |22     |PARIS|\n",
      "|34          |Chaussée-d'Antin   |9         |3        |1946-1970 |meublé    |24     |29     |17     |PARIS|\n",
      "|35          |Faubourg-Montmartre|9         |4        |1971-1990 |non meublé|21     |26     |15     |PARIS|\n",
      "|47          |Bercy              |12        |3        |Avant 1946|meublé    |23     |27     |16     |PARIS|\n",
      "|43          |Roquette           |11        |4        |Apres 1990|meublé    |21     |26     |15     |PARIS|\n",
      "|35          |Faubourg-Montmartre|9         |2        |1946-1970 |non meublé|23     |28     |16     |PARIS|\n",
      "|35          |Faubourg-Montmartre|9         |4        |Apres 1990|non meublé|20     |24     |14     |PARIS|\n",
      "|39          |Porte-Saint-Martin |10        |2        |1971-1990 |meublé    |25     |31     |18     |PARIS|\n",
      "|35          |Faubourg-Montmartre|9         |1        |1971-1990 |meublé    |30     |36     |21     |PARIS|\n",
      "|44          |Sainte-Marguerite  |11        |1        |Avant 1946|meublé    |32     |39     |22     |PARIS|\n",
      "|44          |Sainte-Marguerite  |11        |4        |Avant 1946|meublé    |23     |27     |16     |PARIS|\n",
      "|50          |Gare               |13        |2        |1946-1970 |meublé    |21     |25     |15     |PARIS|\n",
      "|49          |Salpêtrière        |13        |2        |1946-1970 |meublé    |24     |29     |16     |PARIS|\n",
      "|34          |Chaussée-d'Antin   |9         |4        |Avant 1946|meublé    |28     |34     |20     |PARIS|\n",
      "|49          |Salpêtrière        |13        |3        |Apres 1990|non meublé|23     |28     |16     |PARIS|\n",
      "|47          |Bercy              |12        |4        |1971-1990 |non meublé|17     |21     |12     |PARIS|\n",
      "|43          |Roquette           |11        |4        |1946-1970 |meublé    |24     |29     |17     |PARIS|\n",
      "|32          |Europe             |8         |2        |Apres 1990|meublé    |30     |36     |21     |PARIS|\n",
      "+------------+-------------------+----------+---------+----------+----------+-------+-------+-------+-----+\n",
      "only showing top 20 rows\n",
      "\n"
     ]
    }
   ],
   "source": [
    "data_union.show(truncate=False)"
   ]
  },
  {
   "cell_type": "code",
   "execution_count": 35,
   "id": "3fd1a413",
   "metadata": {},
   "outputs": [
    {
     "data": {
      "text/plain": [
       "[('Num_Quartier', 'int'),\n",
       " ('Nom_Quartier', 'string'),\n",
       " ('Num_Arrond', 'int'),\n",
       " ('Nb_pièces', 'int'),\n",
       " ('Epoque', 'string'),\n",
       " ('Type', 'string'),\n",
       " ('Loy_Ref', 'int'),\n",
       " ('Loy_Max', 'int'),\n",
       " ('Loy_Min', 'int'),\n",
       " ('Ville', 'string')]"
      ]
     },
     "execution_count": 35,
     "metadata": {},
     "output_type": "execute_result"
    }
   ],
   "source": [
    "data_union.dtypes"
   ]
  },
  {
   "cell_type": "markdown",
   "id": "7f1775fe",
   "metadata": {},
   "source": [
    "# Intégration dans MongoDB"
   ]
  },
  {
   "cell_type": "code",
   "execution_count": 36,
   "id": "f67c2b6f",
   "metadata": {},
   "outputs": [
    {
     "name": "stdout",
     "output_type": "stream",
     "text": [
      "['admin', 'config', 'local']\n"
     ]
    }
   ],
   "source": [
    "myclient = pymongo.MongoClient(\"mongodb://d717eb066cdd:27017/\")\n",
    "print(myclient.list_database_names())"
   ]
  },
  {
   "cell_type": "markdown",
   "id": "83197d2e",
   "metadata": {},
   "source": [
    "# VISUALISATION"
   ]
  },
  {
   "cell_type": "code",
   "execution_count": 37,
   "id": "31857181",
   "metadata": {},
   "outputs": [],
   "source": [
    "data_union = data_union.toPandas()"
   ]
  },
  {
   "cell_type": "code",
   "execution_count": 38,
   "id": "d8b3ea55",
   "metadata": {},
   "outputs": [],
   "source": [
    "data_union_1 = data_union['Loy_Ref'] "
   ]
  },
  {
   "cell_type": "code",
   "execution_count": 39,
   "id": "190b58c3",
   "metadata": {},
   "outputs": [
    {
     "data": {
      "image/png": "[encoded data removed]",
      "text/plain": [
       "<Figure size 640x480 with 1 Axes>"
      ]
     },
     "metadata": {},
     "output_type": "display_data"
    }
   ],
   "source": [
    "ax1 = data_union['Loy_Ref'].plot(kind='hist', bins=25, facecolor='lightblue')\n",
    "ax1.set_title('Loyer Reference')\n",
    "ax1.set_xlabel('Loyer')\n",
    "ax1.set_ylabel('Counts')\n",
    "plt.suptitle('')\n",
    "plt.show()"
   ]
  },
  {
   "cell_type": "raw",
   "id": "30d09a52",
   "metadata": {},
   "source": [
    "Nous avons utilisé Matplotlib pour créer un histogramme montrant la répartition du loyer de référence. Nous pouvons voir que le loyer de référence est en grande partie situé aux alentours de 25"
   ]
  },
  {
   "cell_type": "code",
   "execution_count": 40,
   "id": "90cc05cf",
   "metadata": {},
   "outputs": [
    {
     "data": {
      "image/png": "[encoded data removed]",
      "text/plain": [
       "<Figure size 640x480 with 1 Axes>"
      ]
     },
     "metadata": {},
     "output_type": "display_data"
    }
   ],
   "source": [
    "ax = sns.boxplot(x=\"Type\", y=\"Loy_Ref\",data=data_union, showfliers = False)\n",
    "ax.set_title('Loyer par type')\n",
    "ax.set_xlabel('Type')\n",
    "ax.set_ylabel('Loyer')\n",
    "plt.show()"
   ]
  },
  {
   "cell_type": "raw",
   "id": "4700d117",
   "metadata": {},
   "source": [
    "Nous avons utilisé Seaborn pour créer un diagramme à surfaces résumant les tendances du loyer dde référence pour chaque type de logement."
   ]
  },
  {
   "cell_type": "code",
   "execution_count": 41,
   "id": "3461e3ee",
   "metadata": {},
   "outputs": [
    {
     "data": {
      "text/plain": [
       "<seaborn.axisgrid.FacetGrid at 0x7f537847d3a0>"
      ]
     },
     "execution_count": 41,
     "metadata": {},
     "output_type": "execute_result"
    },
    {
     "data": {
      "image/png": "[encoded data removed]",
      "text/plain": [
       "<Figure size 632.375x500 with 1 Axes>"
      ]
     },
     "metadata": {},
     "output_type": "display_data"
    }
   ],
   "source": [
    "sns.catplot(data=data_union, kind=\"bar\", x=\"Nb_pièces\", y=\"Loy_Ref\", hue=\"Type\")"
   ]
  },
  {
   "cell_type": "code",
   "execution_count": null,
   "id": "a178cf5a",
   "metadata": {},
   "outputs": [],
   "source": []
  },
  {
   "cell_type": "code",
   "execution_count": 42,
   "id": "2db43c59",
   "metadata": {},
   "outputs": [
    {
     "data": {
      "image/png": "[encoded data removed]",
      "text/plain": [
       "<Figure size 640x480 with 1 Axes>"
      ]
     },
     "metadata": {},
     "output_type": "display_data"
    }
   ],
   "source": [
    "ax2 = data_union.boxplot(column=['Loy_Ref'], by=['Num_Arrond'])\n",
    "ax2.set_title('Loyer par Arrondissement')\n",
    "ax2.set_xlabel('Arrondissement')\n",
    "ax2.set_ylabel('Loyer')\n",
    "ax2.set_ylim(0,50)\n",
    "plt.suptitle('')\n",
    "plt.show()"
   ]
  },
  {
   "cell_type": "code",
   "execution_count": 43,
   "id": "94bab340",
   "metadata": {},
   "outputs": [
    {
     "data": {
      "text/plain": [
       "<seaborn.axisgrid.FacetGrid at 0x7f5338505b50>"
      ]
     },
     "execution_count": 43,
     "metadata": {},
     "output_type": "execute_result"
    },
    {
     "data": {
      "image/png": "[encoded data removed]",
      "text/plain": [
       "<Figure size 632.375x500 with 1 Axes>"
      ]
     },
     "metadata": {},
     "output_type": "display_data"
    }
   ],
   "source": [
    "sns.catplot(data=data_union, kind=\"violin\", x=\"Epoque\", y=\"Loy_Ref\", hue=\"Type\", split=True)"
   ]
  },
  {
   "cell_type": "code",
   "execution_count": 44,
   "id": "e0bef119",
   "metadata": {},
   "outputs": [
    {
     "data": {
      "text/plain": [
       "<AxesSubplot: xlabel='Loy_Ref', ylabel='Count'>"
      ]
     },
     "execution_count": 44,
     "metadata": {},
     "output_type": "execute_result"
    },
    {
     "data": {
      "image/png": "[encoded data removed]",
      "text/plain": [
       "<Figure size 640x480 with 1 Axes>"
      ]
     },
     "metadata": {},
     "output_type": "display_data"
    }
   ],
   "source": [
    "sns.histplot(data=data_union, x=\"Loy_Ref\", hue=\"Nb_pièces\", multiple=\"stack\")"
   ]
  },
  {
   "cell_type": "code",
   "execution_count": null,
   "id": "39700d39",
   "metadata": {},
   "outputs": [],
   "source": []
  }
 ],
 "metadata": {
  "kernelspec": {
   "display_name": "Python 3 (ipykernel)",
   "language": "python",
   "name": "python3"
  },
  "language_info": {
   "codemirror_mode": {
    "name": "ipython",
    "version": 3
   },
   "file_extension": ".py",
   "mimetype": "text/x-python",
   "name": "python",
   "nbconvert_exporter": "python",
   "pygments_lexer": "ipython3",
   "version": "3.9.2"
  }
 },
 "nbformat": 4,
 "nbformat_minor": 5
}
